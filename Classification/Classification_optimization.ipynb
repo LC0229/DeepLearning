{
  "cells": [
    {
      "cell_type": "markdown",
      "metadata": {
        "id": "OYlaRwNu7ojq"
      },
      "source": [
        "# **Homework 2: Phoneme Classification**\n"
      ]
    },
    {
      "cell_type": "markdown",
      "source": [
        "Objectives:\n",
        "* Solve a classification problem with deep neural networks (DNNs).\n",
        "* Understand recursive neural networks (RNNs).\n",
        "\n",
        "If you have any questions, please contact the TAs via TA hours, NTU COOL, or email to mlta-2023-spring@googlegroups.com"
      ],
      "metadata": {
        "id": "A7DRC5V7_8A5"
      }
    },
    {
      "cell_type": "markdown",
      "metadata": {
        "id": "KVUGfWTo7_Oj"
      },
      "source": [
        "# Download Data\n",
        "Download data from google drive, then unzip it.\n",
        "\n",
        "You should have\n",
        "- `libriphone/train_split.txt`: training metadata\n",
        "- `libriphone/train_labels`: training labels\n",
        "- `libriphone/test_split.txt`: testing metadata\n",
        "- `libriphone/feat/train/*.pt`: training feature\n",
        "- `libriphone/feat/test/*.pt`:  testing feature\n",
        "\n",
        "after running the following block.\n",
        "\n",
        "> **Notes: if the google drive link is dead, you can download the data directly from [Kaggle](https://www.kaggle.com/c/ml2023spring-hw2/data) and upload it to the workspace.**\n"
      ]
    },
    {
      "cell_type": "code",
      "execution_count": 4,
      "metadata": {
        "id": "OzkiMEcC3Foq",
        "colab": {
          "base_uri": "https://localhost:8080/"
        },
        "outputId": "3ce75d6c-911f-4551-9100-7ef2cc02de55"
      },
      "outputs": [
        {
          "output_type": "stream",
          "name": "stdout",
          "text": [
            "Requirement already satisfied: gdown in /usr/local/lib/python3.11/dist-packages (5.2.0)\n",
            "Requirement already satisfied: beautifulsoup4 in /usr/local/lib/python3.11/dist-packages (from gdown) (4.13.4)\n",
            "Requirement already satisfied: filelock in /usr/local/lib/python3.11/dist-packages (from gdown) (3.18.0)\n",
            "Requirement already satisfied: requests[socks] in /usr/local/lib/python3.11/dist-packages (from gdown) (2.32.3)\n",
            "Requirement already satisfied: tqdm in /usr/local/lib/python3.11/dist-packages (from gdown) (4.67.1)\n",
            "Requirement already satisfied: soupsieve>1.2 in /usr/local/lib/python3.11/dist-packages (from beautifulsoup4->gdown) (2.7)\n",
            "Requirement already satisfied: typing-extensions>=4.0.0 in /usr/local/lib/python3.11/dist-packages (from beautifulsoup4->gdown) (4.14.0)\n",
            "Requirement already satisfied: charset-normalizer<4,>=2 in /usr/local/lib/python3.11/dist-packages (from requests[socks]->gdown) (3.4.2)\n",
            "Requirement already satisfied: idna<4,>=2.5 in /usr/local/lib/python3.11/dist-packages (from requests[socks]->gdown) (3.10)\n",
            "Requirement already satisfied: urllib3<3,>=1.21.1 in /usr/local/lib/python3.11/dist-packages (from requests[socks]->gdown) (2.4.0)\n",
            "Requirement already satisfied: certifi>=2017.4.17 in /usr/local/lib/python3.11/dist-packages (from requests[socks]->gdown) (2025.6.15)\n",
            "Requirement already satisfied: PySocks!=1.5.7,>=1.5.6 in /usr/local/lib/python3.11/dist-packages (from requests[socks]->gdown) (1.7.1)\n",
            "/usr/local/lib/python3.11/dist-packages/gdown/__main__.py:140: FutureWarning: Option `--id` was deprecated in version 4.3.1 and will be removed in 5.0. You don't need to pass it anymore to use a file ID.\n",
            "  warnings.warn(\n",
            "Downloading...\n",
            "From (original): https://drive.google.com/uc?id=1qzCRnywKh30mTbWUEjXuNT2isOCAPdO1\n",
            "From (redirected): https://drive.google.com/uc?id=1qzCRnywKh30mTbWUEjXuNT2isOCAPdO1&confirm=t&uuid=cfe16c98-dbc9-4b7a-a538-15df3212268a\n",
            "To: /content/libriphone.zip\n",
            "100% 384M/384M [00:02<00:00, 153MB/s]\n",
            "feat  test_split.txt  train_labels.txt\ttrain_split.txt\n"
          ]
        }
      ],
      "source": [
        "!pip install --upgrade gdown\n",
        "\n",
        "# Main link\n",
        "# !gdown --id '1N1eVIDe9hKM5uiNRGmifBlwSDGiVXPJe' --output libriphone.zip\n",
        "!gdown --id '1qzCRnywKh30mTbWUEjXuNT2isOCAPdO1' --output libriphone.zip\n",
        "\n",
        "!unzip -q libriphone.zip\n",
        "!ls libriphone"
      ]
    },
    {
      "cell_type": "markdown",
      "source": [
        "# Some Utility Functions\n",
        "**Fixes random number generator seeds for reproducibility.**"
      ],
      "metadata": {
        "id": "pADUiYODJE1O"
      }
    },
    {
      "cell_type": "code",
      "source": [
        "import numpy as np\n",
        "import torch\n",
        "import random\n",
        "\n",
        "def same_seeds(seed):\n",
        "    random.seed(seed)\n",
        "    np.random.seed(seed)\n",
        "    torch.manual_seed(seed)\n",
        "    if torch.cuda.is_available():\n",
        "        torch.cuda.manual_seed(seed)\n",
        "        torch.cuda.manual_seed_all(seed)\n",
        "    torch.backends.cudnn.benchmark = False\n",
        "    torch.backends.cudnn.deterministic = True"
      ],
      "metadata": {
        "id": "BsZKgBZQJjaE"
      },
      "execution_count": 5,
      "outputs": []
    },
    {
      "cell_type": "markdown",
      "metadata": {
        "id": "_L_4anls8Drv"
      },
      "source": [
        "**Helper functions to pre-process the training data from raw MFCC features of each utterance.**\n",
        "\n",
        "A phoneme may span several frames and is dependent to past and future frames. \\\n",
        "Hence we concatenate neighboring phonemes for training to achieve higher accuracy. The **concat_feat** function concatenates past and future k frames (total 2k+1 = n frames), and we predict the center frame.\n",
        "\n",
        "Feel free to modify the data preprocess functions, but **do not drop any frame** (if you modify the functions, remember to check that the number of frames are the same as mentioned in the slides)"
      ]
    },
    {
      "cell_type": "code",
      "execution_count": 6,
      "metadata": {
        "id": "IJjLT8em-y9G"
      },
      "outputs": [],
      "source": [
        "import os\n",
        "import torch\n",
        "from tqdm import tqdm\n",
        "\n",
        "def load_feat(path):\n",
        "    feat = torch.load(path)\n",
        "    return feat\n",
        "\n",
        "def shift(x, n):\n",
        "    if n < 0:\n",
        "        left = x[0].repeat(-n, 1)\n",
        "        right = x[:n]\n",
        "    elif n > 0:\n",
        "        right = x[-1].repeat(n, 1)\n",
        "        left = x[n:]\n",
        "    else:\n",
        "        return x\n",
        "\n",
        "    return torch.cat((left, right), dim=0)\n",
        "\n",
        "def concat_feat(x, concat_n):\n",
        "    assert concat_n % 2 == 1 # n must be odd\n",
        "    if concat_n < 2:\n",
        "        return x\n",
        "    seq_len, feature_dim = x.size(0), x.size(1)\n",
        "    x = x.repeat(1, concat_n)\n",
        "    x = x.view(seq_len, concat_n, feature_dim).permute(1, 0, 2) # concat_n, seq_len, feature_dim\n",
        "    mid = (concat_n // 2)\n",
        "    for r_idx in range(1, mid+1):\n",
        "        x[mid + r_idx, :] = shift(x[mid + r_idx], r_idx)\n",
        "        x[mid - r_idx, :] = shift(x[mid - r_idx], -r_idx)\n",
        "\n",
        "    return x.permute(1, 0, 2).view(seq_len, concat_n * feature_dim)\n",
        "\n",
        "def preprocess_data(split, feat_dir, phone_path, concat_nframes, train_ratio=0.8, random_seed=1213):\n",
        "    class_num = 41 # NOTE: pre-computed, should not need change\n",
        "\n",
        "    if split == 'train' or split == 'val':\n",
        "        mode = 'train'\n",
        "    elif split == 'test':\n",
        "        mode = 'test'\n",
        "    else:\n",
        "        raise ValueError('Invalid \\'split\\' argument for dataset: PhoneDataset!')\n",
        "\n",
        "    label_dict = {}\n",
        "    if mode == 'train':\n",
        "        for line in open(os.path.join(phone_path, f'{mode}_labels.txt')).readlines():\n",
        "            line = line.strip('\\n').split(' ')\n",
        "            label_dict[line[0]] = [int(p) for p in line[1:]]\n",
        "\n",
        "        # split training and validation data\n",
        "        usage_list = open(os.path.join(phone_path, 'train_split.txt')).readlines()\n",
        "        random.seed(random_seed)\n",
        "        random.shuffle(usage_list)\n",
        "        train_len = int(len(usage_list) * train_ratio)\n",
        "        usage_list = usage_list[:train_len] if split == 'train' else usage_list[train_len:]\n",
        "\n",
        "    elif mode == 'test':\n",
        "        usage_list = open(os.path.join(phone_path, 'test_split.txt')).readlines()\n",
        "\n",
        "    usage_list = [line.strip('\\n') for line in usage_list]\n",
        "    print('[Dataset] - # phone classes: ' + str(class_num) + ', number of utterances for ' + split + ': ' + str(len(usage_list)))\n",
        "\n",
        "    max_len = 3000000\n",
        "    X = torch.empty(max_len, 39 * concat_nframes)\n",
        "    if mode == 'train':\n",
        "        y = torch.empty(max_len, dtype=torch.long)\n",
        "\n",
        "    idx = 0\n",
        "    for i, fname in tqdm(enumerate(usage_list)):\n",
        "        feat = load_feat(os.path.join(feat_dir, mode, f'{fname}.pt'))\n",
        "        cur_len = len(feat)\n",
        "        feat = concat_feat(feat, concat_nframes)\n",
        "        if mode == 'train':\n",
        "          label = torch.LongTensor(label_dict[fname])\n",
        "\n",
        "        X[idx: idx + cur_len, :] = feat\n",
        "        if mode == 'train':\n",
        "          y[idx: idx + cur_len] = label\n",
        "\n",
        "        idx += cur_len\n",
        "\n",
        "    X = X[:idx, :]\n",
        "    if mode == 'train':\n",
        "      y = y[:idx]\n",
        "\n",
        "    print(f'[INFO] {split} set')\n",
        "    print(X.shape)\n",
        "    if mode == 'train':\n",
        "      print(y.shape)\n",
        "      return X, y\n",
        "    else:\n",
        "      return X\n"
      ]
    },
    {
      "cell_type": "markdown",
      "metadata": {
        "id": "us5XW_x6udZQ"
      },
      "source": [
        "# Dataset"
      ]
    },
    {
      "cell_type": "code",
      "execution_count": 7,
      "metadata": {
        "id": "Fjf5EcmJtf4e"
      },
      "outputs": [],
      "source": [
        "import torch\n",
        "from torch.utils.data import Dataset\n",
        "\n",
        "class LibriDataset(Dataset):\n",
        "    def __init__(self, X, y=None):\n",
        "        self.data = X\n",
        "        if y is not None:\n",
        "            self.label = torch.LongTensor(y)\n",
        "        else:\n",
        "            self.label = None\n",
        "\n",
        "    def __getitem__(self, idx):\n",
        "        if self.label is not None:\n",
        "            return self.data[idx], self.label[idx]\n",
        "        else:\n",
        "            return self.data[idx]\n",
        "\n",
        "    def __len__(self):\n",
        "        return len(self.data)\n"
      ]
    },
    {
      "cell_type": "markdown",
      "metadata": {
        "id": "IRqKNvNZwe3V"
      },
      "source": [
        "# Model\n",
        "Feel free to modify the structure of the model."
      ]
    },
    {
      "cell_type": "code",
      "execution_count": 8,
      "metadata": {
        "id": "Bg-GRd7ywdrL"
      },
      "outputs": [],
      "source": [
        "import torch.nn as nn\n",
        "\n",
        "class BasicBlock(nn.Module):\n",
        "    def __init__(self, input_dim, output_dim):\n",
        "        super(BasicBlock, self).__init__()\n",
        "\n",
        "        # TODO: apply batch normalization and dropout for strong baseline.\n",
        "        # Reference: https://pytorch.org/docs/stable/generated/torch.nn.BatchNorm1d.html (batch normalization)\n",
        "        #       https://pytorch.org/docs/stable/generated/torch.nn.Dropout.html (dropout)\n",
        "        self.block = nn.Sequential(\n",
        "            nn.Linear(input_dim, output_dim),     # Linear layer\n",
        "            nn.BatchNorm1d(output_dim),           # ✅ Normalize output for stable training\n",
        "            nn.ReLU(),                            # Non-linearity\n",
        "            nn.Dropout(p=0.3)                     # ✅ Dropout for regularization\n",
        "        )\n",
        "\n",
        "    def forward(self, x):\n",
        "        x = self.block(x)\n",
        "        return x\n",
        "\n",
        "\n",
        "class Classifier(nn.Module):\n",
        "    def __init__(self, input_dim, output_dim=41, hidden_layers=1, hidden_dim=256):\n",
        "        super(Classifier, self).__init__()\n",
        "\n",
        "        self.fc = nn.Sequential(\n",
        "            BasicBlock(input_dim, hidden_dim),\n",
        "            *[BasicBlock(hidden_dim, hidden_dim) for _ in range(hidden_layers)],\n",
        "            nn.Linear(hidden_dim, output_dim)\n",
        "        )\n",
        "\n",
        "    def forward(self, x):\n",
        "        x = self.fc(x)\n",
        "        return x"
      ]
    },
    {
      "cell_type": "markdown",
      "source": [
        "# Hyper-parameters"
      ],
      "metadata": {
        "id": "TlIq8JeqvvHC"
      }
    },
    {
      "cell_type": "code",
      "source": [
        "# data prarameters\n",
        "# TODO: change the value of \"concat_nframes\" for medium baseline\n",
        "concat_nframes = 25   # the number of frames to concat with, n must be odd (total 2k+1 = n frames)\n",
        "train_ratio = 0.75   # the ratio of data used for training, the rest will be used for validation\n",
        "\n",
        "# training parameters\n",
        "seed = 1213          # random seed\n",
        "batch_size = 512       # batch size\n",
        "num_epoch = 100       # the number of training epoch\n",
        "learning_rate = 2e-4      # learning rate\n",
        "model_path = './model.ckpt'  # the path where the checkpoint will be saved\n",
        "\n",
        "# model parameters\n",
        "# TODO: change the value of \"hidden_layers\" or \"hidden_dim\" for medium baseline\n",
        "input_dim = 39 * concat_nframes  # the input dim of the model, you should not change the value\n",
        "hidden_layers = 4         # the number of hidden layers\n",
        "hidden_dim = 1024          # the hidden dim"
      ],
      "metadata": {
        "id": "iIHn79Iav1ri"
      },
      "execution_count": 10,
      "outputs": []
    },
    {
      "cell_type": "markdown",
      "source": [
        "# Dataloader"
      ],
      "metadata": {
        "id": "IIUFRgG5yoDn"
      }
    },
    {
      "cell_type": "code",
      "source": [
        "from torch.utils.data import DataLoader\n",
        "import gc\n",
        "\n",
        "same_seeds(seed)\n",
        "device = 'cuda' if torch.cuda.is_available() else 'cpu'\n",
        "print(f'DEVICE: {device}')\n",
        "\n",
        "# preprocess data\n",
        "train_X, train_y = preprocess_data(split='train', feat_dir='./libriphone/feat', phone_path='./libriphone', concat_nframes=concat_nframes, train_ratio=train_ratio, random_seed=seed)\n",
        "val_X, val_y = preprocess_data(split='val', feat_dir='./libriphone/feat', phone_path='./libriphone', concat_nframes=concat_nframes, train_ratio=train_ratio, random_seed=seed)\n",
        "\n",
        "# get dataset\n",
        "train_set = LibriDataset(train_X, train_y)\n",
        "val_set = LibriDataset(val_X, val_y)\n",
        "\n",
        "# remove raw feature to save memory\n",
        "del train_X, train_y, val_X, val_y\n",
        "gc.collect()\n",
        "\n",
        "# get dataloader\n",
        "train_loader = DataLoader(train_set, batch_size=batch_size, shuffle=True)\n",
        "val_loader = DataLoader(val_set, batch_size=batch_size, shuffle=False)"
      ],
      "metadata": {
        "id": "c1zI3v5jyrDn",
        "colab": {
          "base_uri": "https://localhost:8080/"
        },
        "outputId": "85d14d63-c4cb-45a6-c453-9a7448f1d65a"
      },
      "execution_count": 11,
      "outputs": [
        {
          "output_type": "stream",
          "name": "stdout",
          "text": [
            "DEVICE: cuda\n",
            "[Dataset] - # phone classes: 41, number of utterances for train: 2571\n"
          ]
        },
        {
          "output_type": "stream",
          "name": "stderr",
          "text": [
            "2571it [00:09, 270.64it/s]\n"
          ]
        },
        {
          "output_type": "stream",
          "name": "stdout",
          "text": [
            "[INFO] train set\n",
            "torch.Size([1588590, 975])\n",
            "torch.Size([1588590])\n",
            "[Dataset] - # phone classes: 41, number of utterances for val: 858\n"
          ]
        },
        {
          "output_type": "stream",
          "name": "stderr",
          "text": [
            "858it [00:02, 288.76it/s]\n"
          ]
        },
        {
          "output_type": "stream",
          "name": "stdout",
          "text": [
            "[INFO] val set\n",
            "torch.Size([528204, 975])\n",
            "torch.Size([528204])\n"
          ]
        }
      ]
    },
    {
      "cell_type": "markdown",
      "source": [
        "# Training"
      ],
      "metadata": {
        "id": "pwWH1KIqzxEr"
      }
    },
    {
      "cell_type": "code",
      "execution_count": 12,
      "metadata": {
        "id": "CdMWsBs7zzNs",
        "colab": {
          "base_uri": "https://localhost:8080/"
        },
        "outputId": "88c72955-5353-4804-91d6-ed73eee57a25"
      },
      "outputs": [
        {
          "output_type": "stream",
          "name": "stderr",
          "text": [
            "100%|██████████| 3103/3103 [00:34<00:00, 89.34it/s] \n",
            "100%|██████████| 1032/1032 [00:06<00:00, 168.45it/s]\n"
          ]
        },
        {
          "output_type": "stream",
          "name": "stdout",
          "text": [
            "[001/100] Train Acc: 0.53426 Loss: 1.56560 | Val Acc: 0.63001 loss: 1.19386\n",
            "saving model with acc 0.63001\n"
          ]
        },
        {
          "output_type": "stream",
          "name": "stderr",
          "text": [
            "100%|██████████| 3103/3103 [00:33<00:00, 93.10it/s]\n",
            "100%|██████████| 1032/1032 [00:08<00:00, 123.03it/s]\n"
          ]
        },
        {
          "output_type": "stream",
          "name": "stdout",
          "text": [
            "[002/100] Train Acc: 0.61192 Loss: 1.25659 | Val Acc: 0.66306 loss: 1.07548\n",
            "saving model with acc 0.66306\n"
          ]
        },
        {
          "output_type": "stream",
          "name": "stderr",
          "text": [
            "100%|██████████| 3103/3103 [00:32<00:00, 94.18it/s]\n",
            "100%|██████████| 1032/1032 [00:07<00:00, 139.37it/s]\n"
          ]
        },
        {
          "output_type": "stream",
          "name": "stdout",
          "text": [
            "[003/100] Train Acc: 0.63768 Loss: 1.16451 | Val Acc: 0.67982 loss: 1.01402\n",
            "saving model with acc 0.67982\n"
          ]
        },
        {
          "output_type": "stream",
          "name": "stderr",
          "text": [
            "100%|██████████| 3103/3103 [00:33<00:00, 92.52it/s]\n",
            "100%|██████████| 1032/1032 [00:05<00:00, 172.76it/s]\n"
          ]
        },
        {
          "output_type": "stream",
          "name": "stdout",
          "text": [
            "[004/100] Train Acc: 0.65381 Loss: 1.10747 | Val Acc: 0.68950 loss: 0.98015\n",
            "saving model with acc 0.68950\n"
          ]
        },
        {
          "output_type": "stream",
          "name": "stderr",
          "text": [
            "100%|██████████| 3103/3103 [00:33<00:00, 92.93it/s]\n",
            "100%|██████████| 1032/1032 [00:06<00:00, 162.80it/s]\n"
          ]
        },
        {
          "output_type": "stream",
          "name": "stdout",
          "text": [
            "[005/100] Train Acc: 0.66526 Loss: 1.06594 | Val Acc: 0.69827 loss: 0.94973\n",
            "saving model with acc 0.69827\n"
          ]
        },
        {
          "output_type": "stream",
          "name": "stderr",
          "text": [
            "100%|██████████| 3103/3103 [00:33<00:00, 93.26it/s]\n",
            "100%|██████████| 1032/1032 [00:06<00:00, 153.90it/s]\n"
          ]
        },
        {
          "output_type": "stream",
          "name": "stdout",
          "text": [
            "[006/100] Train Acc: 0.67476 Loss: 1.03244 | Val Acc: 0.70595 loss: 0.92579\n",
            "saving model with acc 0.70595\n"
          ]
        },
        {
          "output_type": "stream",
          "name": "stderr",
          "text": [
            "100%|██████████| 3103/3103 [00:33<00:00, 92.91it/s]\n",
            "100%|██████████| 1032/1032 [00:06<00:00, 170.33it/s]\n"
          ]
        },
        {
          "output_type": "stream",
          "name": "stdout",
          "text": [
            "[007/100] Train Acc: 0.68246 Loss: 1.00379 | Val Acc: 0.71273 loss: 0.90459\n",
            "saving model with acc 0.71273\n"
          ]
        },
        {
          "output_type": "stream",
          "name": "stderr",
          "text": [
            "100%|██████████| 3103/3103 [00:33<00:00, 92.24it/s]\n",
            "100%|██████████| 1032/1032 [00:06<00:00, 171.59it/s]\n"
          ]
        },
        {
          "output_type": "stream",
          "name": "stdout",
          "text": [
            "[008/100] Train Acc: 0.68981 Loss: 0.98014 | Val Acc: 0.71590 loss: 0.89255\n",
            "saving model with acc 0.71590\n"
          ]
        },
        {
          "output_type": "stream",
          "name": "stderr",
          "text": [
            "100%|██████████| 3103/3103 [00:33<00:00, 91.93it/s]\n",
            "100%|██████████| 1032/1032 [00:06<00:00, 151.41it/s]\n"
          ]
        },
        {
          "output_type": "stream",
          "name": "stdout",
          "text": [
            "[009/100] Train Acc: 0.69624 Loss: 0.95812 | Val Acc: 0.71939 loss: 0.88166\n",
            "saving model with acc 0.71939\n"
          ]
        },
        {
          "output_type": "stream",
          "name": "stderr",
          "text": [
            "100%|██████████| 3103/3103 [00:33<00:00, 91.88it/s]\n",
            "100%|██████████| 1032/1032 [00:06<00:00, 160.19it/s]\n"
          ]
        },
        {
          "output_type": "stream",
          "name": "stdout",
          "text": [
            "[010/100] Train Acc: 0.70105 Loss: 0.94126 | Val Acc: 0.72292 loss: 0.86820\n",
            "saving model with acc 0.72292\n"
          ]
        },
        {
          "output_type": "stream",
          "name": "stderr",
          "text": [
            "100%|██████████| 3103/3103 [00:33<00:00, 93.10it/s]\n",
            "100%|██████████| 1032/1032 [00:05<00:00, 175.13it/s]\n"
          ]
        },
        {
          "output_type": "stream",
          "name": "stdout",
          "text": [
            "[011/100] Train Acc: 0.70599 Loss: 0.92381 | Val Acc: 0.72635 loss: 0.85919\n",
            "saving model with acc 0.72635\n"
          ]
        },
        {
          "output_type": "stream",
          "name": "stderr",
          "text": [
            "100%|██████████| 3103/3103 [00:33<00:00, 93.37it/s]\n",
            "100%|██████████| 1032/1032 [00:06<00:00, 164.20it/s]\n"
          ]
        },
        {
          "output_type": "stream",
          "name": "stdout",
          "text": [
            "[012/100] Train Acc: 0.71054 Loss: 0.90745 | Val Acc: 0.72831 loss: 0.85085\n",
            "saving model with acc 0.72831\n"
          ]
        },
        {
          "output_type": "stream",
          "name": "stderr",
          "text": [
            "100%|██████████| 3103/3103 [00:32<00:00, 94.53it/s]\n",
            "100%|██████████| 1032/1032 [00:06<00:00, 156.70it/s]\n"
          ]
        },
        {
          "output_type": "stream",
          "name": "stdout",
          "text": [
            "[013/100] Train Acc: 0.71447 Loss: 0.89421 | Val Acc: 0.73154 loss: 0.83986\n",
            "saving model with acc 0.73154\n"
          ]
        },
        {
          "output_type": "stream",
          "name": "stderr",
          "text": [
            "100%|██████████| 3103/3103 [00:33<00:00, 93.97it/s]\n",
            "100%|██████████| 1032/1032 [00:06<00:00, 166.29it/s]\n"
          ]
        },
        {
          "output_type": "stream",
          "name": "stdout",
          "text": [
            "[014/100] Train Acc: 0.71852 Loss: 0.88025 | Val Acc: 0.73332 loss: 0.83552\n",
            "saving model with acc 0.73332\n"
          ]
        },
        {
          "output_type": "stream",
          "name": "stderr",
          "text": [
            "100%|██████████| 3103/3103 [00:33<00:00, 93.57it/s]\n",
            "100%|██████████| 1032/1032 [00:05<00:00, 175.60it/s]\n"
          ]
        },
        {
          "output_type": "stream",
          "name": "stdout",
          "text": [
            "[015/100] Train Acc: 0.72221 Loss: 0.86779 | Val Acc: 0.73473 loss: 0.83098\n",
            "saving model with acc 0.73473\n"
          ]
        },
        {
          "output_type": "stream",
          "name": "stderr",
          "text": [
            "100%|██████████| 3103/3103 [00:33<00:00, 93.40it/s]\n",
            "100%|██████████| 1032/1032 [00:06<00:00, 162.84it/s]\n"
          ]
        },
        {
          "output_type": "stream",
          "name": "stdout",
          "text": [
            "[016/100] Train Acc: 0.72561 Loss: 0.85674 | Val Acc: 0.73689 loss: 0.82661\n",
            "saving model with acc 0.73689\n"
          ]
        },
        {
          "output_type": "stream",
          "name": "stderr",
          "text": [
            "100%|██████████| 3103/3103 [00:32<00:00, 94.08it/s]\n",
            "100%|██████████| 1032/1032 [00:06<00:00, 147.43it/s]\n"
          ]
        },
        {
          "output_type": "stream",
          "name": "stdout",
          "text": [
            "[017/100] Train Acc: 0.72866 Loss: 0.84527 | Val Acc: 0.73878 loss: 0.81980\n",
            "saving model with acc 0.73878\n"
          ]
        },
        {
          "output_type": "stream",
          "name": "stderr",
          "text": [
            "100%|██████████| 3103/3103 [00:33<00:00, 92.02it/s]\n",
            "100%|██████████| 1032/1032 [00:06<00:00, 170.45it/s]\n"
          ]
        },
        {
          "output_type": "stream",
          "name": "stdout",
          "text": [
            "[018/100] Train Acc: 0.73118 Loss: 0.83634 | Val Acc: 0.73975 loss: 0.81750\n",
            "saving model with acc 0.73975\n"
          ]
        },
        {
          "output_type": "stream",
          "name": "stderr",
          "text": [
            "100%|██████████| 3103/3103 [00:33<00:00, 93.02it/s]\n",
            "100%|██████████| 1032/1032 [00:05<00:00, 174.53it/s]\n"
          ]
        },
        {
          "output_type": "stream",
          "name": "stdout",
          "text": [
            "[019/100] Train Acc: 0.73466 Loss: 0.82563 | Val Acc: 0.74140 loss: 0.81274\n",
            "saving model with acc 0.74140\n"
          ]
        },
        {
          "output_type": "stream",
          "name": "stderr",
          "text": [
            "100%|██████████| 3103/3103 [00:33<00:00, 93.54it/s]\n",
            "100%|██████████| 1032/1032 [00:06<00:00, 158.92it/s]\n"
          ]
        },
        {
          "output_type": "stream",
          "name": "stdout",
          "text": [
            "[020/100] Train Acc: 0.73680 Loss: 0.81710 | Val Acc: 0.74145 loss: 0.81178\n",
            "saving model with acc 0.74145\n"
          ]
        },
        {
          "output_type": "stream",
          "name": "stderr",
          "text": [
            "100%|██████████| 3103/3103 [00:32<00:00, 94.74it/s]\n",
            "100%|██████████| 1032/1032 [00:06<00:00, 152.79it/s]\n"
          ]
        },
        {
          "output_type": "stream",
          "name": "stdout",
          "text": [
            "[021/100] Train Acc: 0.73932 Loss: 0.80947 | Val Acc: 0.74248 loss: 0.80959\n",
            "saving model with acc 0.74248\n"
          ]
        },
        {
          "output_type": "stream",
          "name": "stderr",
          "text": [
            "100%|██████████| 3103/3103 [00:33<00:00, 93.56it/s]\n",
            "100%|██████████| 1032/1032 [00:05<00:00, 175.11it/s]\n"
          ]
        },
        {
          "output_type": "stream",
          "name": "stdout",
          "text": [
            "[022/100] Train Acc: 0.74117 Loss: 0.80101 | Val Acc: 0.74338 loss: 0.80581\n",
            "saving model with acc 0.74338\n"
          ]
        },
        {
          "output_type": "stream",
          "name": "stderr",
          "text": [
            "100%|██████████| 3103/3103 [00:33<00:00, 93.56it/s]\n",
            "100%|██████████| 1032/1032 [00:05<00:00, 174.37it/s]\n"
          ]
        },
        {
          "output_type": "stream",
          "name": "stdout",
          "text": [
            "[023/100] Train Acc: 0.74336 Loss: 0.79343 | Val Acc: 0.74484 loss: 0.80377\n",
            "saving model with acc 0.74484\n"
          ]
        },
        {
          "output_type": "stream",
          "name": "stderr",
          "text": [
            "100%|██████████| 3103/3103 [00:33<00:00, 93.64it/s]\n",
            "100%|██████████| 1032/1032 [00:06<00:00, 156.59it/s]\n"
          ]
        },
        {
          "output_type": "stream",
          "name": "stdout",
          "text": [
            "[024/100] Train Acc: 0.74547 Loss: 0.78625 | Val Acc: 0.74511 loss: 0.80178\n",
            "saving model with acc 0.74511\n"
          ]
        },
        {
          "output_type": "stream",
          "name": "stderr",
          "text": [
            "100%|██████████| 3103/3103 [00:32<00:00, 94.53it/s]\n",
            "100%|██████████| 1032/1032 [00:07<00:00, 147.07it/s]\n"
          ]
        },
        {
          "output_type": "stream",
          "name": "stdout",
          "text": [
            "[025/100] Train Acc: 0.74728 Loss: 0.78013 | Val Acc: 0.74589 loss: 0.79974\n",
            "saving model with acc 0.74589\n"
          ]
        },
        {
          "output_type": "stream",
          "name": "stderr",
          "text": [
            "100%|██████████| 3103/3103 [00:34<00:00, 90.88it/s]\n",
            "100%|██████████| 1032/1032 [00:06<00:00, 167.20it/s]\n"
          ]
        },
        {
          "output_type": "stream",
          "name": "stdout",
          "text": [
            "[026/100] Train Acc: 0.74919 Loss: 0.77357 | Val Acc: 0.74603 loss: 0.80029\n",
            "saving model with acc 0.74603\n"
          ]
        },
        {
          "output_type": "stream",
          "name": "stderr",
          "text": [
            "100%|██████████| 3103/3103 [00:34<00:00, 90.22it/s]\n",
            "100%|██████████| 1032/1032 [00:06<00:00, 151.79it/s]\n"
          ]
        },
        {
          "output_type": "stream",
          "name": "stdout",
          "text": [
            "[027/100] Train Acc: 0.75045 Loss: 0.76772 | Val Acc: 0.74642 loss: 0.79906\n",
            "saving model with acc 0.74642\n"
          ]
        },
        {
          "output_type": "stream",
          "name": "stderr",
          "text": [
            "100%|██████████| 3103/3103 [00:33<00:00, 92.03it/s]\n",
            "100%|██████████| 1032/1032 [00:06<00:00, 157.79it/s]\n"
          ]
        },
        {
          "output_type": "stream",
          "name": "stdout",
          "text": [
            "[028/100] Train Acc: 0.75216 Loss: 0.76232 | Val Acc: 0.74788 loss: 0.79577\n",
            "saving model with acc 0.74788\n"
          ]
        },
        {
          "output_type": "stream",
          "name": "stderr",
          "text": [
            "100%|██████████| 3103/3103 [00:33<00:00, 91.58it/s]\n",
            "100%|██████████| 1032/1032 [00:06<00:00, 171.03it/s]\n"
          ]
        },
        {
          "output_type": "stream",
          "name": "stdout",
          "text": [
            "[029/100] Train Acc: 0.75367 Loss: 0.75636 | Val Acc: 0.74827 loss: 0.79331\n",
            "saving model with acc 0.74827\n"
          ]
        },
        {
          "output_type": "stream",
          "name": "stderr",
          "text": [
            "100%|██████████| 3103/3103 [00:33<00:00, 92.34it/s]\n",
            "100%|██████████| 1032/1032 [00:06<00:00, 157.55it/s]\n"
          ]
        },
        {
          "output_type": "stream",
          "name": "stdout",
          "text": [
            "[030/100] Train Acc: 0.75584 Loss: 0.75081 | Val Acc: 0.74928 loss: 0.79322\n",
            "saving model with acc 0.74928\n"
          ]
        },
        {
          "output_type": "stream",
          "name": "stderr",
          "text": [
            "100%|██████████| 3103/3103 [00:33<00:00, 93.80it/s]\n",
            "100%|██████████| 1032/1032 [00:06<00:00, 149.82it/s]\n"
          ]
        },
        {
          "output_type": "stream",
          "name": "stdout",
          "text": [
            "[031/100] Train Acc: 0.75719 Loss: 0.74598 | Val Acc: 0.74881 loss: 0.79530\n"
          ]
        },
        {
          "output_type": "stream",
          "name": "stderr",
          "text": [
            "100%|██████████| 3103/3103 [00:33<00:00, 92.62it/s]\n",
            "100%|██████████| 1032/1032 [00:06<00:00, 170.07it/s]\n"
          ]
        },
        {
          "output_type": "stream",
          "name": "stdout",
          "text": [
            "[032/100] Train Acc: 0.75841 Loss: 0.74141 | Val Acc: 0.74981 loss: 0.79215\n",
            "saving model with acc 0.74981\n"
          ]
        },
        {
          "output_type": "stream",
          "name": "stderr",
          "text": [
            "100%|██████████| 3103/3103 [00:33<00:00, 92.29it/s]\n",
            "100%|██████████| 1032/1032 [00:06<00:00, 160.22it/s]\n"
          ]
        },
        {
          "output_type": "stream",
          "name": "stdout",
          "text": [
            "[033/100] Train Acc: 0.75950 Loss: 0.73709 | Val Acc: 0.75072 loss: 0.79040\n",
            "saving model with acc 0.75072\n"
          ]
        },
        {
          "output_type": "stream",
          "name": "stderr",
          "text": [
            "100%|██████████| 3103/3103 [00:32<00:00, 94.09it/s]\n",
            "100%|██████████| 1032/1032 [00:06<00:00, 152.56it/s]\n"
          ]
        },
        {
          "output_type": "stream",
          "name": "stdout",
          "text": [
            "[034/100] Train Acc: 0.76106 Loss: 0.73227 | Val Acc: 0.74992 loss: 0.79292\n"
          ]
        },
        {
          "output_type": "stream",
          "name": "stderr",
          "text": [
            "100%|██████████| 3103/3103 [00:33<00:00, 91.48it/s]\n",
            "100%|██████████| 1032/1032 [00:06<00:00, 171.11it/s]\n"
          ]
        },
        {
          "output_type": "stream",
          "name": "stdout",
          "text": [
            "[035/100] Train Acc: 0.76209 Loss: 0.72739 | Val Acc: 0.75051 loss: 0.79238\n"
          ]
        },
        {
          "output_type": "stream",
          "name": "stderr",
          "text": [
            "100%|██████████| 3103/3103 [00:33<00:00, 93.55it/s]\n",
            "100%|██████████| 1032/1032 [00:05<00:00, 173.28it/s]\n"
          ]
        },
        {
          "output_type": "stream",
          "name": "stdout",
          "text": [
            "[036/100] Train Acc: 0.76320 Loss: 0.72407 | Val Acc: 0.75125 loss: 0.79116\n",
            "saving model with acc 0.75125\n"
          ]
        },
        {
          "output_type": "stream",
          "name": "stderr",
          "text": [
            "100%|██████████| 3103/3103 [00:33<00:00, 93.64it/s]\n",
            "100%|██████████| 1032/1032 [00:06<00:00, 156.81it/s]\n"
          ]
        },
        {
          "output_type": "stream",
          "name": "stdout",
          "text": [
            "[037/100] Train Acc: 0.76401 Loss: 0.72088 | Val Acc: 0.75031 loss: 0.78946\n"
          ]
        },
        {
          "output_type": "stream",
          "name": "stderr",
          "text": [
            "100%|██████████| 3103/3103 [00:32<00:00, 94.79it/s]\n",
            "100%|██████████| 1032/1032 [00:06<00:00, 152.80it/s]\n"
          ]
        },
        {
          "output_type": "stream",
          "name": "stdout",
          "text": [
            "[038/100] Train Acc: 0.76493 Loss: 0.71795 | Val Acc: 0.75132 loss: 0.79089\n",
            "saving model with acc 0.75132\n"
          ]
        },
        {
          "output_type": "stream",
          "name": "stderr",
          "text": [
            "100%|██████████| 3103/3103 [00:33<00:00, 93.28it/s]\n",
            "100%|██████████| 1032/1032 [00:05<00:00, 172.56it/s]\n"
          ]
        },
        {
          "output_type": "stream",
          "name": "stdout",
          "text": [
            "[039/100] Train Acc: 0.76595 Loss: 0.71423 | Val Acc: 0.75121 loss: 0.79261\n"
          ]
        },
        {
          "output_type": "stream",
          "name": "stderr",
          "text": [
            "100%|██████████| 3103/3103 [00:33<00:00, 93.47it/s]\n",
            "100%|██████████| 1032/1032 [00:05<00:00, 174.24it/s]\n"
          ]
        },
        {
          "output_type": "stream",
          "name": "stdout",
          "text": [
            "[040/100] Train Acc: 0.76721 Loss: 0.70991 | Val Acc: 0.75130 loss: 0.79215\n"
          ]
        },
        {
          "output_type": "stream",
          "name": "stderr",
          "text": [
            "100%|██████████| 3103/3103 [00:33<00:00, 93.39it/s]\n",
            "100%|██████████| 1032/1032 [00:06<00:00, 155.28it/s]\n"
          ]
        },
        {
          "output_type": "stream",
          "name": "stdout",
          "text": [
            "[041/100] Train Acc: 0.76793 Loss: 0.70716 | Val Acc: 0.75156 loss: 0.79174\n",
            "saving model with acc 0.75156\n"
          ]
        },
        {
          "output_type": "stream",
          "name": "stderr",
          "text": [
            "100%|██████████| 3103/3103 [00:33<00:00, 93.13it/s]\n",
            "100%|██████████| 1032/1032 [00:06<00:00, 149.88it/s]\n"
          ]
        },
        {
          "output_type": "stream",
          "name": "stdout",
          "text": [
            "[042/100] Train Acc: 0.76911 Loss: 0.70483 | Val Acc: 0.75216 loss: 0.79252\n",
            "saving model with acc 0.75216\n"
          ]
        },
        {
          "output_type": "stream",
          "name": "stderr",
          "text": [
            "100%|██████████| 3103/3103 [00:33<00:00, 92.59it/s]\n",
            "100%|██████████| 1032/1032 [00:06<00:00, 171.88it/s]\n"
          ]
        },
        {
          "output_type": "stream",
          "name": "stdout",
          "text": [
            "[043/100] Train Acc: 0.76986 Loss: 0.70195 | Val Acc: 0.75213 loss: 0.79118\n"
          ]
        },
        {
          "output_type": "stream",
          "name": "stderr",
          "text": [
            "100%|██████████| 3103/3103 [00:33<00:00, 93.08it/s]\n",
            "100%|██████████| 1032/1032 [00:06<00:00, 167.64it/s]\n"
          ]
        },
        {
          "output_type": "stream",
          "name": "stdout",
          "text": [
            "[044/100] Train Acc: 0.77058 Loss: 0.69888 | Val Acc: 0.75285 loss: 0.79106\n",
            "saving model with acc 0.75285\n"
          ]
        },
        {
          "output_type": "stream",
          "name": "stderr",
          "text": [
            "100%|██████████| 3103/3103 [00:33<00:00, 93.36it/s]\n",
            "100%|██████████| 1032/1032 [00:06<00:00, 155.66it/s]\n"
          ]
        },
        {
          "output_type": "stream",
          "name": "stdout",
          "text": [
            "[045/100] Train Acc: 0.77127 Loss: 0.69581 | Val Acc: 0.75285 loss: 0.79177\n",
            "saving model with acc 0.75285\n"
          ]
        },
        {
          "output_type": "stream",
          "name": "stderr",
          "text": [
            "100%|██████████| 3103/3103 [00:33<00:00, 93.93it/s]\n",
            "100%|██████████| 1032/1032 [00:06<00:00, 158.50it/s]\n"
          ]
        },
        {
          "output_type": "stream",
          "name": "stdout",
          "text": [
            "[046/100] Train Acc: 0.77205 Loss: 0.69272 | Val Acc: 0.75260 loss: 0.79184\n"
          ]
        },
        {
          "output_type": "stream",
          "name": "stderr",
          "text": [
            "100%|██████████| 3103/3103 [00:33<00:00, 93.18it/s]\n",
            "100%|██████████| 1032/1032 [00:05<00:00, 173.08it/s]\n"
          ]
        },
        {
          "output_type": "stream",
          "name": "stdout",
          "text": [
            "[047/100] Train Acc: 0.77314 Loss: 0.69022 | Val Acc: 0.75260 loss: 0.79391\n"
          ]
        },
        {
          "output_type": "stream",
          "name": "stderr",
          "text": [
            "100%|██████████| 3103/3103 [00:33<00:00, 92.79it/s]\n",
            "100%|██████████| 1032/1032 [00:06<00:00, 164.95it/s]\n"
          ]
        },
        {
          "output_type": "stream",
          "name": "stdout",
          "text": [
            "[048/100] Train Acc: 0.77356 Loss: 0.68874 | Val Acc: 0.75313 loss: 0.79279\n",
            "saving model with acc 0.75313\n"
          ]
        },
        {
          "output_type": "stream",
          "name": "stderr",
          "text": [
            "100%|██████████| 3103/3103 [00:33<00:00, 92.73it/s]\n",
            "100%|██████████| 1032/1032 [00:06<00:00, 152.59it/s]\n"
          ]
        },
        {
          "output_type": "stream",
          "name": "stdout",
          "text": [
            "[049/100] Train Acc: 0.77377 Loss: 0.68690 | Val Acc: 0.75222 loss: 0.79539\n"
          ]
        },
        {
          "output_type": "stream",
          "name": "stderr",
          "text": [
            "100%|██████████| 3103/3103 [00:33<00:00, 93.45it/s]\n",
            "100%|██████████| 1032/1032 [00:06<00:00, 168.41it/s]\n"
          ]
        },
        {
          "output_type": "stream",
          "name": "stdout",
          "text": [
            "[050/100] Train Acc: 0.77467 Loss: 0.68373 | Val Acc: 0.75295 loss: 0.79463\n"
          ]
        },
        {
          "output_type": "stream",
          "name": "stderr",
          "text": [
            "100%|██████████| 3103/3103 [00:33<00:00, 93.35it/s]\n",
            "100%|██████████| 1032/1032 [00:05<00:00, 173.33it/s]\n"
          ]
        },
        {
          "output_type": "stream",
          "name": "stdout",
          "text": [
            "[051/100] Train Acc: 0.77485 Loss: 0.68265 | Val Acc: 0.75339 loss: 0.79042\n",
            "saving model with acc 0.75339\n"
          ]
        },
        {
          "output_type": "stream",
          "name": "stderr",
          "text": [
            "100%|██████████| 3103/3103 [00:33<00:00, 93.32it/s]\n",
            "100%|██████████| 1032/1032 [00:06<00:00, 158.90it/s]\n"
          ]
        },
        {
          "output_type": "stream",
          "name": "stdout",
          "text": [
            "[052/100] Train Acc: 0.77601 Loss: 0.67971 | Val Acc: 0.75363 loss: 0.78998\n",
            "saving model with acc 0.75363\n"
          ]
        },
        {
          "output_type": "stream",
          "name": "stderr",
          "text": [
            "100%|██████████| 3103/3103 [00:32<00:00, 94.36it/s]\n",
            "100%|██████████| 1032/1032 [00:06<00:00, 153.38it/s]\n"
          ]
        },
        {
          "output_type": "stream",
          "name": "stdout",
          "text": [
            "[053/100] Train Acc: 0.77650 Loss: 0.67735 | Val Acc: 0.75372 loss: 0.79041\n",
            "saving model with acc 0.75372\n"
          ]
        },
        {
          "output_type": "stream",
          "name": "stderr",
          "text": [
            "100%|██████████| 3103/3103 [00:33<00:00, 93.82it/s]\n",
            "100%|██████████| 1032/1032 [00:05<00:00, 174.10it/s]\n"
          ]
        },
        {
          "output_type": "stream",
          "name": "stdout",
          "text": [
            "[054/100] Train Acc: 0.77751 Loss: 0.67506 | Val Acc: 0.75376 loss: 0.79139\n",
            "saving model with acc 0.75376\n"
          ]
        },
        {
          "output_type": "stream",
          "name": "stderr",
          "text": [
            "100%|██████████| 3103/3103 [00:33<00:00, 93.60it/s]\n",
            "100%|██████████| 1032/1032 [00:05<00:00, 174.45it/s]\n"
          ]
        },
        {
          "output_type": "stream",
          "name": "stdout",
          "text": [
            "[055/100] Train Acc: 0.77759 Loss: 0.67435 | Val Acc: 0.75300 loss: 0.79458\n"
          ]
        },
        {
          "output_type": "stream",
          "name": "stderr",
          "text": [
            "100%|██████████| 3103/3103 [00:33<00:00, 93.57it/s]\n",
            "100%|██████████| 1032/1032 [00:06<00:00, 157.80it/s]\n"
          ]
        },
        {
          "output_type": "stream",
          "name": "stdout",
          "text": [
            "[056/100] Train Acc: 0.77821 Loss: 0.67218 | Val Acc: 0.75416 loss: 0.79083\n",
            "saving model with acc 0.75416\n"
          ]
        },
        {
          "output_type": "stream",
          "name": "stderr",
          "text": [
            "100%|██████████| 3103/3103 [00:32<00:00, 94.26it/s]\n",
            "100%|██████████| 1032/1032 [00:06<00:00, 154.19it/s]\n"
          ]
        },
        {
          "output_type": "stream",
          "name": "stdout",
          "text": [
            "[057/100] Train Acc: 0.77916 Loss: 0.66921 | Val Acc: 0.75382 loss: 0.79280\n"
          ]
        },
        {
          "output_type": "stream",
          "name": "stderr",
          "text": [
            "100%|██████████| 3103/3103 [00:33<00:00, 93.41it/s]\n",
            "100%|██████████| 1032/1032 [00:05<00:00, 172.64it/s]\n"
          ]
        },
        {
          "output_type": "stream",
          "name": "stdout",
          "text": [
            "[058/100] Train Acc: 0.77887 Loss: 0.66909 | Val Acc: 0.75356 loss: 0.79421\n"
          ]
        },
        {
          "output_type": "stream",
          "name": "stderr",
          "text": [
            "100%|██████████| 3103/3103 [00:33<00:00, 93.34it/s]\n",
            "100%|██████████| 1032/1032 [00:06<00:00, 171.34it/s]\n"
          ]
        },
        {
          "output_type": "stream",
          "name": "stdout",
          "text": [
            "[059/100] Train Acc: 0.77968 Loss: 0.66643 | Val Acc: 0.75374 loss: 0.79196\n"
          ]
        },
        {
          "output_type": "stream",
          "name": "stderr",
          "text": [
            "100%|██████████| 3103/3103 [00:33<00:00, 93.14it/s]\n",
            "100%|██████████| 1032/1032 [00:06<00:00, 157.43it/s]\n"
          ]
        },
        {
          "output_type": "stream",
          "name": "stdout",
          "text": [
            "[060/100] Train Acc: 0.78033 Loss: 0.66487 | Val Acc: 0.75325 loss: 0.79507\n"
          ]
        },
        {
          "output_type": "stream",
          "name": "stderr",
          "text": [
            "100%|██████████| 3103/3103 [00:32<00:00, 94.13it/s]\n",
            "100%|██████████| 1032/1032 [00:06<00:00, 152.18it/s]\n"
          ]
        },
        {
          "output_type": "stream",
          "name": "stdout",
          "text": [
            "[061/100] Train Acc: 0.78085 Loss: 0.66303 | Val Acc: 0.75437 loss: 0.79240\n",
            "saving model with acc 0.75437\n"
          ]
        },
        {
          "output_type": "stream",
          "name": "stderr",
          "text": [
            "100%|██████████| 3103/3103 [00:33<00:00, 93.22it/s]\n",
            "100%|██████████| 1032/1032 [00:05<00:00, 174.81it/s]\n"
          ]
        },
        {
          "output_type": "stream",
          "name": "stdout",
          "text": [
            "[062/100] Train Acc: 0.78093 Loss: 0.66230 | Val Acc: 0.75388 loss: 0.79516\n"
          ]
        },
        {
          "output_type": "stream",
          "name": "stderr",
          "text": [
            "100%|██████████| 3103/3103 [00:33<00:00, 93.42it/s]\n",
            "100%|██████████| 1032/1032 [00:05<00:00, 172.55it/s]\n"
          ]
        },
        {
          "output_type": "stream",
          "name": "stdout",
          "text": [
            "[063/100] Train Acc: 0.78092 Loss: 0.66162 | Val Acc: 0.75464 loss: 0.79473\n",
            "saving model with acc 0.75464\n"
          ]
        },
        {
          "output_type": "stream",
          "name": "stderr",
          "text": [
            "100%|██████████| 3103/3103 [00:33<00:00, 93.58it/s]\n",
            "100%|██████████| 1032/1032 [00:06<00:00, 155.04it/s]\n"
          ]
        },
        {
          "output_type": "stream",
          "name": "stdout",
          "text": [
            "[064/100] Train Acc: 0.78171 Loss: 0.65930 | Val Acc: 0.75494 loss: 0.79184\n",
            "saving model with acc 0.75494\n"
          ]
        },
        {
          "output_type": "stream",
          "name": "stderr",
          "text": [
            "100%|██████████| 3103/3103 [00:32<00:00, 94.12it/s]\n",
            "100%|██████████| 1032/1032 [00:06<00:00, 150.68it/s]\n"
          ]
        },
        {
          "output_type": "stream",
          "name": "stdout",
          "text": [
            "[065/100] Train Acc: 0.78213 Loss: 0.65785 | Val Acc: 0.75393 loss: 0.79463\n"
          ]
        },
        {
          "output_type": "stream",
          "name": "stderr",
          "text": [
            "100%|██████████| 3103/3103 [00:33<00:00, 93.32it/s]\n",
            "100%|██████████| 1032/1032 [00:05<00:00, 173.52it/s]\n"
          ]
        },
        {
          "output_type": "stream",
          "name": "stdout",
          "text": [
            "[066/100] Train Acc: 0.78277 Loss: 0.65627 | Val Acc: 0.75382 loss: 0.79458\n"
          ]
        },
        {
          "output_type": "stream",
          "name": "stderr",
          "text": [
            "100%|██████████| 3103/3103 [00:33<00:00, 93.72it/s]\n",
            "100%|██████████| 1032/1032 [00:05<00:00, 175.64it/s]\n"
          ]
        },
        {
          "output_type": "stream",
          "name": "stdout",
          "text": [
            "[067/100] Train Acc: 0.78341 Loss: 0.65372 | Val Acc: 0.75473 loss: 0.79553\n"
          ]
        },
        {
          "output_type": "stream",
          "name": "stderr",
          "text": [
            "100%|██████████| 3103/3103 [00:33<00:00, 93.60it/s]\n",
            "100%|██████████| 1032/1032 [00:06<00:00, 158.90it/s]\n"
          ]
        },
        {
          "output_type": "stream",
          "name": "stdout",
          "text": [
            "[068/100] Train Acc: 0.78326 Loss: 0.65392 | Val Acc: 0.75558 loss: 0.79235\n",
            "saving model with acc 0.75558\n"
          ]
        },
        {
          "output_type": "stream",
          "name": "stderr",
          "text": [
            "100%|██████████| 3103/3103 [00:32<00:00, 94.46it/s]\n",
            "100%|██████████| 1032/1032 [00:06<00:00, 150.69it/s]\n"
          ]
        },
        {
          "output_type": "stream",
          "name": "stdout",
          "text": [
            "[069/100] Train Acc: 0.78364 Loss: 0.65217 | Val Acc: 0.75511 loss: 0.79415\n"
          ]
        },
        {
          "output_type": "stream",
          "name": "stderr",
          "text": [
            "100%|██████████| 3103/3103 [00:33<00:00, 92.22it/s]\n",
            "100%|██████████| 1032/1032 [00:06<00:00, 168.42it/s]\n"
          ]
        },
        {
          "output_type": "stream",
          "name": "stdout",
          "text": [
            "[070/100] Train Acc: 0.78410 Loss: 0.65145 | Val Acc: 0.75423 loss: 0.79597\n"
          ]
        },
        {
          "output_type": "stream",
          "name": "stderr",
          "text": [
            "100%|██████████| 3103/3103 [00:33<00:00, 92.35it/s]\n",
            "100%|██████████| 1032/1032 [00:06<00:00, 167.71it/s]\n"
          ]
        },
        {
          "output_type": "stream",
          "name": "stdout",
          "text": [
            "[071/100] Train Acc: 0.78475 Loss: 0.64954 | Val Acc: 0.75456 loss: 0.79539\n"
          ]
        },
        {
          "output_type": "stream",
          "name": "stderr",
          "text": [
            "100%|██████████| 3103/3103 [00:33<00:00, 93.66it/s]\n",
            "100%|██████████| 1032/1032 [00:06<00:00, 154.42it/s]\n"
          ]
        },
        {
          "output_type": "stream",
          "name": "stdout",
          "text": [
            "[072/100] Train Acc: 0.78492 Loss: 0.64862 | Val Acc: 0.75448 loss: 0.79584\n"
          ]
        },
        {
          "output_type": "stream",
          "name": "stderr",
          "text": [
            "100%|██████████| 3103/3103 [00:33<00:00, 93.76it/s]\n",
            "100%|██████████| 1032/1032 [00:06<00:00, 157.33it/s]\n"
          ]
        },
        {
          "output_type": "stream",
          "name": "stdout",
          "text": [
            "[073/100] Train Acc: 0.78509 Loss: 0.64712 | Val Acc: 0.75475 loss: 0.79664\n"
          ]
        },
        {
          "output_type": "stream",
          "name": "stderr",
          "text": [
            "100%|██████████| 3103/3103 [00:33<00:00, 93.10it/s]\n",
            "100%|██████████| 1032/1032 [00:06<00:00, 171.34it/s]\n"
          ]
        },
        {
          "output_type": "stream",
          "name": "stdout",
          "text": [
            "[074/100] Train Acc: 0.78515 Loss: 0.64693 | Val Acc: 0.75422 loss: 0.79525\n"
          ]
        },
        {
          "output_type": "stream",
          "name": "stderr",
          "text": [
            "100%|██████████| 3103/3103 [00:33<00:00, 91.99it/s]\n",
            "100%|██████████| 1032/1032 [00:06<00:00, 158.33it/s]\n"
          ]
        },
        {
          "output_type": "stream",
          "name": "stdout",
          "text": [
            "[075/100] Train Acc: 0.78507 Loss: 0.64633 | Val Acc: 0.75482 loss: 0.79553\n"
          ]
        },
        {
          "output_type": "stream",
          "name": "stderr",
          "text": [
            "100%|██████████| 3103/3103 [00:33<00:00, 92.98it/s]\n",
            "100%|██████████| 1032/1032 [00:06<00:00, 153.63it/s]\n"
          ]
        },
        {
          "output_type": "stream",
          "name": "stdout",
          "text": [
            "[076/100] Train Acc: 0.78595 Loss: 0.64412 | Val Acc: 0.75450 loss: 0.79683\n"
          ]
        },
        {
          "output_type": "stream",
          "name": "stderr",
          "text": [
            "100%|██████████| 3103/3103 [00:33<00:00, 93.21it/s]\n",
            "100%|██████████| 1032/1032 [00:05<00:00, 173.15it/s]\n"
          ]
        },
        {
          "output_type": "stream",
          "name": "stdout",
          "text": [
            "[077/100] Train Acc: 0.78591 Loss: 0.64470 | Val Acc: 0.75477 loss: 0.79533\n"
          ]
        },
        {
          "output_type": "stream",
          "name": "stderr",
          "text": [
            "100%|██████████| 3103/3103 [00:33<00:00, 93.32it/s]\n",
            "100%|██████████| 1032/1032 [00:06<00:00, 171.75it/s]\n"
          ]
        },
        {
          "output_type": "stream",
          "name": "stdout",
          "text": [
            "[078/100] Train Acc: 0.78639 Loss: 0.64290 | Val Acc: 0.75537 loss: 0.79371\n"
          ]
        },
        {
          "output_type": "stream",
          "name": "stderr",
          "text": [
            "100%|██████████| 3103/3103 [00:33<00:00, 93.19it/s]\n",
            "100%|██████████| 1032/1032 [00:06<00:00, 156.95it/s]\n"
          ]
        },
        {
          "output_type": "stream",
          "name": "stdout",
          "text": [
            "[079/100] Train Acc: 0.78667 Loss: 0.64236 | Val Acc: 0.75501 loss: 0.79659\n"
          ]
        },
        {
          "output_type": "stream",
          "name": "stderr",
          "text": [
            "100%|██████████| 3103/3103 [00:33<00:00, 93.77it/s]\n",
            "100%|██████████| 1032/1032 [00:06<00:00, 151.32it/s]\n"
          ]
        },
        {
          "output_type": "stream",
          "name": "stdout",
          "text": [
            "[080/100] Train Acc: 0.78727 Loss: 0.64076 | Val Acc: 0.75468 loss: 0.79644\n"
          ]
        },
        {
          "output_type": "stream",
          "name": "stderr",
          "text": [
            "100%|██████████| 3103/3103 [00:33<00:00, 91.78it/s]\n",
            "100%|██████████| 1032/1032 [00:06<00:00, 169.34it/s]\n"
          ]
        },
        {
          "output_type": "stream",
          "name": "stdout",
          "text": [
            "[081/100] Train Acc: 0.78718 Loss: 0.63987 | Val Acc: 0.75512 loss: 0.79567\n"
          ]
        },
        {
          "output_type": "stream",
          "name": "stderr",
          "text": [
            "100%|██████████| 3103/3103 [00:33<00:00, 91.64it/s]\n",
            "100%|██████████| 1032/1032 [00:06<00:00, 162.16it/s]\n"
          ]
        },
        {
          "output_type": "stream",
          "name": "stdout",
          "text": [
            "[082/100] Train Acc: 0.78778 Loss: 0.63875 | Val Acc: 0.75540 loss: 0.79514\n"
          ]
        },
        {
          "output_type": "stream",
          "name": "stderr",
          "text": [
            "100%|██████████| 3103/3103 [00:33<00:00, 92.85it/s]\n",
            "100%|██████████| 1032/1032 [00:06<00:00, 150.51it/s]\n"
          ]
        },
        {
          "output_type": "stream",
          "name": "stdout",
          "text": [
            "[083/100] Train Acc: 0.78788 Loss: 0.63770 | Val Acc: 0.75531 loss: 0.79590\n"
          ]
        },
        {
          "output_type": "stream",
          "name": "stderr",
          "text": [
            "100%|██████████| 3103/3103 [00:33<00:00, 91.73it/s]\n",
            "100%|██████████| 1032/1032 [00:06<00:00, 169.50it/s]\n"
          ]
        },
        {
          "output_type": "stream",
          "name": "stdout",
          "text": [
            "[084/100] Train Acc: 0.78823 Loss: 0.63744 | Val Acc: 0.75586 loss: 0.79442\n",
            "saving model with acc 0.75586\n"
          ]
        },
        {
          "output_type": "stream",
          "name": "stderr",
          "text": [
            "100%|██████████| 3103/3103 [00:34<00:00, 90.69it/s]\n",
            "100%|██████████| 1032/1032 [00:06<00:00, 170.80it/s]\n"
          ]
        },
        {
          "output_type": "stream",
          "name": "stdout",
          "text": [
            "[085/100] Train Acc: 0.78847 Loss: 0.63633 | Val Acc: 0.75507 loss: 0.79692\n"
          ]
        },
        {
          "output_type": "stream",
          "name": "stderr",
          "text": [
            "100%|██████████| 3103/3103 [00:33<00:00, 92.56it/s]\n",
            "100%|██████████| 1032/1032 [00:06<00:00, 155.02it/s]\n"
          ]
        },
        {
          "output_type": "stream",
          "name": "stdout",
          "text": [
            "[086/100] Train Acc: 0.78828 Loss: 0.63618 | Val Acc: 0.75575 loss: 0.79741\n"
          ]
        },
        {
          "output_type": "stream",
          "name": "stderr",
          "text": [
            "100%|██████████| 3103/3103 [00:33<00:00, 93.34it/s]\n",
            "100%|██████████| 1032/1032 [00:06<00:00, 162.76it/s]\n"
          ]
        },
        {
          "output_type": "stream",
          "name": "stdout",
          "text": [
            "[087/100] Train Acc: 0.78862 Loss: 0.63496 | Val Acc: 0.75543 loss: 0.79609\n"
          ]
        },
        {
          "output_type": "stream",
          "name": "stderr",
          "text": [
            "100%|██████████| 3103/3103 [00:33<00:00, 93.33it/s]\n",
            "100%|██████████| 1032/1032 [00:05<00:00, 172.42it/s]\n"
          ]
        },
        {
          "output_type": "stream",
          "name": "stdout",
          "text": [
            "[088/100] Train Acc: 0.78905 Loss: 0.63327 | Val Acc: 0.75560 loss: 0.79697\n"
          ]
        },
        {
          "output_type": "stream",
          "name": "stderr",
          "text": [
            "100%|██████████| 3103/3103 [00:33<00:00, 93.49it/s]\n",
            "100%|██████████| 1032/1032 [00:06<00:00, 168.23it/s]\n"
          ]
        },
        {
          "output_type": "stream",
          "name": "stdout",
          "text": [
            "[089/100] Train Acc: 0.78957 Loss: 0.63330 | Val Acc: 0.75550 loss: 0.79654\n"
          ]
        },
        {
          "output_type": "stream",
          "name": "stderr",
          "text": [
            "100%|██████████| 3103/3103 [00:33<00:00, 93.76it/s]\n",
            "100%|██████████| 1032/1032 [00:06<00:00, 153.32it/s]\n"
          ]
        },
        {
          "output_type": "stream",
          "name": "stdout",
          "text": [
            "[090/100] Train Acc: 0.78925 Loss: 0.63229 | Val Acc: 0.75597 loss: 0.79871\n",
            "saving model with acc 0.75597\n"
          ]
        },
        {
          "output_type": "stream",
          "name": "stderr",
          "text": [
            "100%|██████████| 3103/3103 [00:32<00:00, 94.03it/s]\n",
            "100%|██████████| 1032/1032 [00:06<00:00, 163.97it/s]\n"
          ]
        },
        {
          "output_type": "stream",
          "name": "stdout",
          "text": [
            "[091/100] Train Acc: 0.79005 Loss: 0.63122 | Val Acc: 0.75567 loss: 0.79620\n"
          ]
        },
        {
          "output_type": "stream",
          "name": "stderr",
          "text": [
            "100%|██████████| 3103/3103 [00:33<00:00, 93.40it/s]\n",
            "100%|██████████| 1032/1032 [00:05<00:00, 172.82it/s]\n"
          ]
        },
        {
          "output_type": "stream",
          "name": "stdout",
          "text": [
            "[092/100] Train Acc: 0.79010 Loss: 0.63011 | Val Acc: 0.75477 loss: 0.79804\n"
          ]
        },
        {
          "output_type": "stream",
          "name": "stderr",
          "text": [
            "100%|██████████| 3103/3103 [00:33<00:00, 93.38it/s]\n",
            "100%|██████████| 1032/1032 [00:06<00:00, 160.24it/s]\n"
          ]
        },
        {
          "output_type": "stream",
          "name": "stdout",
          "text": [
            "[093/100] Train Acc: 0.79036 Loss: 0.62992 | Val Acc: 0.75591 loss: 0.79832\n"
          ]
        },
        {
          "output_type": "stream",
          "name": "stderr",
          "text": [
            "100%|██████████| 3103/3103 [00:33<00:00, 93.94it/s]\n",
            "100%|██████████| 1032/1032 [00:06<00:00, 152.83it/s]\n"
          ]
        },
        {
          "output_type": "stream",
          "name": "stdout",
          "text": [
            "[094/100] Train Acc: 0.79063 Loss: 0.62911 | Val Acc: 0.75575 loss: 0.79530\n"
          ]
        },
        {
          "output_type": "stream",
          "name": "stderr",
          "text": [
            "100%|██████████| 3103/3103 [00:33<00:00, 92.62it/s]\n",
            "100%|██████████| 1032/1032 [00:05<00:00, 174.01it/s]\n"
          ]
        },
        {
          "output_type": "stream",
          "name": "stdout",
          "text": [
            "[095/100] Train Acc: 0.79089 Loss: 0.62819 | Val Acc: 0.75580 loss: 0.79771\n"
          ]
        },
        {
          "output_type": "stream",
          "name": "stderr",
          "text": [
            "100%|██████████| 3103/3103 [00:33<00:00, 92.67it/s]\n",
            "100%|██████████| 1032/1032 [00:05<00:00, 174.44it/s]\n"
          ]
        },
        {
          "output_type": "stream",
          "name": "stdout",
          "text": [
            "[096/100] Train Acc: 0.79130 Loss: 0.62741 | Val Acc: 0.75536 loss: 0.79873\n"
          ]
        },
        {
          "output_type": "stream",
          "name": "stderr",
          "text": [
            "100%|██████████| 3103/3103 [00:33<00:00, 93.31it/s]\n",
            "100%|██████████| 1032/1032 [00:06<00:00, 157.39it/s]\n"
          ]
        },
        {
          "output_type": "stream",
          "name": "stdout",
          "text": [
            "[097/100] Train Acc: 0.79096 Loss: 0.62772 | Val Acc: 0.75560 loss: 0.79758\n"
          ]
        },
        {
          "output_type": "stream",
          "name": "stderr",
          "text": [
            "100%|██████████| 3103/3103 [00:33<00:00, 93.90it/s]\n",
            "100%|██████████| 1032/1032 [00:06<00:00, 149.83it/s]\n"
          ]
        },
        {
          "output_type": "stream",
          "name": "stdout",
          "text": [
            "[098/100] Train Acc: 0.79113 Loss: 0.62703 | Val Acc: 0.75557 loss: 0.79884\n"
          ]
        },
        {
          "output_type": "stream",
          "name": "stderr",
          "text": [
            "100%|██████████| 3103/3103 [00:33<00:00, 93.16it/s]\n",
            "100%|██████████| 1032/1032 [00:05<00:00, 173.40it/s]\n"
          ]
        },
        {
          "output_type": "stream",
          "name": "stdout",
          "text": [
            "[099/100] Train Acc: 0.79163 Loss: 0.62535 | Val Acc: 0.75613 loss: 0.79877\n",
            "saving model with acc 0.75613\n"
          ]
        },
        {
          "output_type": "stream",
          "name": "stderr",
          "text": [
            "100%|██████████| 3103/3103 [00:33<00:00, 93.36it/s]\n",
            "100%|██████████| 1032/1032 [00:05<00:00, 173.31it/s]"
          ]
        },
        {
          "output_type": "stream",
          "name": "stdout",
          "text": [
            "[100/100] Train Acc: 0.79195 Loss: 0.62496 | Val Acc: 0.75623 loss: 0.79694\n",
            "saving model with acc 0.75623\n"
          ]
        },
        {
          "output_type": "stream",
          "name": "stderr",
          "text": [
            "\n"
          ]
        }
      ],
      "source": [
        "# create model, define a loss function, and optimizer\n",
        "model = Classifier(input_dim=input_dim, hidden_layers=hidden_layers, hidden_dim=hidden_dim).to(device)\n",
        "criterion = nn.CrossEntropyLoss()\n",
        "optimizer = torch.optim.Adam(model.parameters(), lr=learning_rate, weight_decay=1e-4) # ✅ Adam includes RMSProp + Momentum behavior\n",
        "# optimizer = torch.optim.SGD(model.parameters(), lr=learning_rate, momentum=0.9, weight_decay=1e-5)\n",
        "# scheduler = torch.optim.lr_scheduler.StepLR(optimizer, step_size=5, gamma=0.5)\n",
        "max_lr = learning_rate * 10\n",
        "scheduler = torch.optim.lr_scheduler.OneCycleLR(\n",
        "    optimizer,\n",
        "    max_lr=max_lr,              # Peak learning rate\n",
        "    steps_per_epoch=len(train_loader),\n",
        "    epochs=num_epoch,\n",
        "    pct_start=0.1,              # 10% of steps increasing LR, rest decreasing\n",
        "    anneal_strategy='cos',      # Cosine decay after warm-up\n",
        "    div_factor=25.0,            # initial_lr = max_lr/div_factor\n",
        "    final_div_factor=1e4,       # very low end LR\n",
        ") # ✅ OneCycleLR Scheduler: Warmup + Cosine Decay, First 10% of steps are warm-up\n",
        "\n",
        "best_acc = 0.0\n",
        "for epoch in range(num_epoch):\n",
        "    train_acc = 0.0\n",
        "    train_loss = 0.0\n",
        "    val_acc = 0.0\n",
        "    val_loss = 0.0\n",
        "\n",
        "    # training\n",
        "    model.train() # set the model to training mode\n",
        "    for i, batch in enumerate(tqdm(train_loader)):\n",
        "        features, labels = batch\n",
        "        features = features.to(device)\n",
        "        labels = labels.to(device)\n",
        "\n",
        "        optimizer.zero_grad()\n",
        "        outputs = model(features)\n",
        "\n",
        "        loss = criterion(outputs, labels)\n",
        "        loss.backward()\n",
        "        optimizer.step()\n",
        "\n",
        "        _, train_pred = torch.max(outputs, 1) # get the index of the class with the highest probability\n",
        "        train_acc += (train_pred.detach() == labels.detach()).sum().item()\n",
        "        train_loss += loss.item()\n",
        "    scheduler.step() # ✅ Step learning rate at end of epoch\n",
        "\n",
        "\n",
        "    # validation\n",
        "    model.eval() # set the model to evaluation mode\n",
        "    with torch.no_grad():\n",
        "        for i, batch in enumerate(tqdm(val_loader)):\n",
        "            features, labels = batch\n",
        "            features = features.to(device)\n",
        "            labels = labels.to(device)\n",
        "            outputs = model(features)\n",
        "\n",
        "            loss = criterion(outputs, labels)\n",
        "\n",
        "            _, val_pred = torch.max(outputs, 1)\n",
        "            val_acc += (val_pred.cpu() == labels.cpu()).sum().item() # get the index of the class with the highest probability\n",
        "            val_loss += loss.item()\n",
        "\n",
        "    print(f'[{epoch+1:03d}/{num_epoch:03d}] Train Acc: {train_acc/len(train_set):3.5f} Loss: {train_loss/len(train_loader):3.5f} | Val Acc: {val_acc/len(val_set):3.5f} loss: {val_loss/len(val_loader):3.5f}')\n",
        "\n",
        "    # if the model improves, save a checkpoint at this epoch\n",
        "    if val_acc > best_acc:\n",
        "        best_acc = val_acc\n",
        "        torch.save(model.state_dict(), model_path)\n",
        "        print(f'saving model with acc {best_acc/len(val_set):.5f}')\n"
      ]
    },
    {
      "cell_type": "code",
      "execution_count": 13,
      "metadata": {
        "id": "ab33MxosWLmG",
        "colab": {
          "base_uri": "https://localhost:8080/"
        },
        "outputId": "7ad5afce-1afd-4723-b267-b3d51501084b"
      },
      "outputs": [
        {
          "output_type": "execute_result",
          "data": {
            "text/plain": [
              "0"
            ]
          },
          "metadata": {},
          "execution_count": 13
        }
      ],
      "source": [
        "del train_set, val_set\n",
        "del train_loader, val_loader\n",
        "gc.collect()"
      ]
    },
    {
      "cell_type": "markdown",
      "metadata": {
        "id": "1Hi7jTn3PX-m"
      },
      "source": [
        "# Testing\n",
        "Create a testing dataset, and load model from the saved checkpoint."
      ]
    },
    {
      "cell_type": "code",
      "execution_count": 14,
      "metadata": {
        "id": "VOG1Ou0PGrhc",
        "colab": {
          "base_uri": "https://localhost:8080/"
        },
        "outputId": "cebf6400-f505-4a7d-847c-6fdcc032c3f1"
      },
      "outputs": [
        {
          "output_type": "stream",
          "name": "stdout",
          "text": [
            "[Dataset] - # phone classes: 41, number of utterances for test: 857\n"
          ]
        },
        {
          "output_type": "stream",
          "name": "stderr",
          "text": [
            "857it [00:02, 289.38it/s]"
          ]
        },
        {
          "output_type": "stream",
          "name": "stdout",
          "text": [
            "[INFO] test set\n",
            "torch.Size([527364, 975])\n"
          ]
        },
        {
          "output_type": "stream",
          "name": "stderr",
          "text": [
            "\n"
          ]
        }
      ],
      "source": [
        "# load data\n",
        "test_X = preprocess_data(split='test', feat_dir='./libriphone/feat', phone_path='./libriphone', concat_nframes=concat_nframes)\n",
        "test_set = LibriDataset(test_X, None)\n",
        "test_loader = DataLoader(test_set, batch_size=batch_size, shuffle=False)"
      ]
    },
    {
      "cell_type": "code",
      "execution_count": 15,
      "metadata": {
        "id": "ay0Fu8Ovkdad",
        "colab": {
          "base_uri": "https://localhost:8080/"
        },
        "outputId": "c0f882aa-6d04-4352-cbe4-5f1ad137b5cc"
      },
      "outputs": [
        {
          "output_type": "execute_result",
          "data": {
            "text/plain": [
              "<All keys matched successfully>"
            ]
          },
          "metadata": {},
          "execution_count": 15
        }
      ],
      "source": [
        "# load model\n",
        "model = Classifier(input_dim=input_dim, hidden_layers=hidden_layers, hidden_dim=hidden_dim).to(device)\n",
        "model.load_state_dict(torch.load(model_path))"
      ]
    },
    {
      "cell_type": "markdown",
      "metadata": {
        "id": "zp-DV1p4r7Nz"
      },
      "source": [
        "Make prediction."
      ]
    },
    {
      "cell_type": "code",
      "execution_count": 16,
      "metadata": {
        "id": "84HU5GGjPqR0",
        "colab": {
          "base_uri": "https://localhost:8080/"
        },
        "outputId": "1f159b4d-9145-4c9a-b477-0410a2530028"
      },
      "outputs": [
        {
          "output_type": "stream",
          "name": "stderr",
          "text": [
            "100%|██████████| 1031/1031 [00:04<00:00, 254.39it/s]\n"
          ]
        }
      ],
      "source": [
        "pred = np.array([], dtype=np.int32)\n",
        "\n",
        "model.eval()\n",
        "with torch.no_grad():\n",
        "    for i, batch in enumerate(tqdm(test_loader)):\n",
        "        features = batch\n",
        "        features = features.to(device)\n",
        "\n",
        "        outputs = model(features)\n",
        "\n",
        "        _, test_pred = torch.max(outputs, 1) # get the index of the class with the highest probability\n",
        "        pred = np.concatenate((pred, test_pred.cpu().numpy()), axis=0)\n"
      ]
    },
    {
      "cell_type": "markdown",
      "metadata": {
        "id": "wyZqy40Prz0v"
      },
      "source": [
        "Write prediction to a CSV file.\n",
        "\n",
        "After finish running this block, download the file `prediction.csv` from the files section on the left-hand side and submit it to Kaggle."
      ]
    },
    {
      "cell_type": "code",
      "execution_count": 17,
      "metadata": {
        "id": "GuljYSPHcZir"
      },
      "outputs": [],
      "source": [
        "with open('prediction.csv', 'w') as f:\n",
        "    f.write('Id,Class\\n')\n",
        "    for i, y in enumerate(pred):\n",
        "        f.write('{},{}\\n'.format(i, y))"
      ]
    }
  ],
  "metadata": {
    "accelerator": "GPU",
    "colab": {
      "provenance": []
    },
    "kernelspec": {
      "display_name": "Python 3",
      "name": "python3"
    }
  },
  "nbformat": 4,
  "nbformat_minor": 0
}